{
 "cells": [
  {
   "cell_type": "code",
   "execution_count": 1,
   "id": "149b0f36",
   "metadata": {},
   "outputs": [],
   "source": [
    "import numpy as np\n",
    "import pandas as pd\n",
    "import matplotlib.pyplot as plt\n",
    "import seaborn as sns\n",
    "from scipy.stats import zscore"
   ]
  },
  {
   "cell_type": "code",
   "execution_count": 4,
   "id": "ba270e63",
   "metadata": {},
   "outputs": [],
   "source": [
    "np.random.seed(42)\n",
    "data=np.random.normal(loc=50,scale=10,size=100)\n",
    "outliers=np.array([10,110,5,20])\n",
    "data=np.concatenate([data,outliers])"
   ]
  },
  {
   "cell_type": "code",
   "execution_count": 5,
   "id": "d81d7a0b",
   "metadata": {},
   "outputs": [
    {
     "data": {
      "text/html": [
       "<div>\n",
       "<style scoped>\n",
       "    .dataframe tbody tr th:only-of-type {\n",
       "        vertical-align: middle;\n",
       "    }\n",
       "\n",
       "    .dataframe tbody tr th {\n",
       "        vertical-align: top;\n",
       "    }\n",
       "\n",
       "    .dataframe thead th {\n",
       "        text-align: right;\n",
       "    }\n",
       "</style>\n",
       "<table border=\"1\" class=\"dataframe\">\n",
       "  <thead>\n",
       "    <tr style=\"text-align: right;\">\n",
       "      <th></th>\n",
       "      <th>Values</th>\n",
       "    </tr>\n",
       "  </thead>\n",
       "  <tbody>\n",
       "    <tr>\n",
       "      <th>0</th>\n",
       "      <td>54.967142</td>\n",
       "    </tr>\n",
       "    <tr>\n",
       "      <th>1</th>\n",
       "      <td>48.617357</td>\n",
       "    </tr>\n",
       "    <tr>\n",
       "      <th>2</th>\n",
       "      <td>56.476885</td>\n",
       "    </tr>\n",
       "    <tr>\n",
       "      <th>3</th>\n",
       "      <td>65.230299</td>\n",
       "    </tr>\n",
       "    <tr>\n",
       "      <th>4</th>\n",
       "      <td>47.658466</td>\n",
       "    </tr>\n",
       "  </tbody>\n",
       "</table>\n",
       "</div>"
      ],
      "text/plain": [
       "      Values\n",
       "0  54.967142\n",
       "1  48.617357\n",
       "2  56.476885\n",
       "3  65.230299\n",
       "4  47.658466"
      ]
     },
     "execution_count": 5,
     "metadata": {},
     "output_type": "execute_result"
    }
   ],
   "source": [
    "df=pd.DataFrame(data,columns=['Values'])\n",
    "df.head()"
   ]
  },
  {
   "cell_type": "code",
   "execution_count": 6,
   "id": "550358d7",
   "metadata": {},
   "outputs": [
    {
     "data": {
      "text/html": [
       "<div>\n",
       "<style scoped>\n",
       "    .dataframe tbody tr th:only-of-type {\n",
       "        vertical-align: middle;\n",
       "    }\n",
       "\n",
       "    .dataframe tbody tr th {\n",
       "        vertical-align: top;\n",
       "    }\n",
       "\n",
       "    .dataframe thead th {\n",
       "        text-align: right;\n",
       "    }\n",
       "</style>\n",
       "<table border=\"1\" class=\"dataframe\">\n",
       "  <thead>\n",
       "    <tr style=\"text-align: right;\">\n",
       "      <th></th>\n",
       "      <th>Values</th>\n",
       "    </tr>\n",
       "  </thead>\n",
       "  <tbody>\n",
       "    <tr>\n",
       "      <th>99</th>\n",
       "      <td>47.654129</td>\n",
       "    </tr>\n",
       "    <tr>\n",
       "      <th>100</th>\n",
       "      <td>10.000000</td>\n",
       "    </tr>\n",
       "    <tr>\n",
       "      <th>101</th>\n",
       "      <td>110.000000</td>\n",
       "    </tr>\n",
       "    <tr>\n",
       "      <th>102</th>\n",
       "      <td>5.000000</td>\n",
       "    </tr>\n",
       "    <tr>\n",
       "      <th>103</th>\n",
       "      <td>20.000000</td>\n",
       "    </tr>\n",
       "  </tbody>\n",
       "</table>\n",
       "</div>"
      ],
      "text/plain": [
       "         Values\n",
       "99    47.654129\n",
       "100   10.000000\n",
       "101  110.000000\n",
       "102    5.000000\n",
       "103   20.000000"
      ]
     },
     "execution_count": 6,
     "metadata": {},
     "output_type": "execute_result"
    }
   ],
   "source": [
    "df.tail()"
   ]
  },
  {
   "cell_type": "code",
   "execution_count": 19,
   "id": "bed851a3",
   "metadata": {},
   "outputs": [
    {
     "data": {
      "image/png": "[encoded data removed]",
      "text/plain": [
       "<Figure size 800x500 with 1 Axes>"
      ]
     },
     "metadata": {},
     "output_type": "display_data"
    }
   ],
   "source": [
    "#scatter-plot\n",
    "plt.figure(figsize=(8,5))\n",
    "plt.scatter(range(len(df)),df['Values'],color='blue',label='Data Points')\n",
    "plt.axhline(y=df['Values'].mean(),color='red',linestyle='--',label='Mean')\n",
    "plt.xlabel(\"Index\")\n",
    "plt.ylabel(\"Values\")\n",
    "plt.title(\"Scatter Plot for Outlier Detection\")\n",
    "plt.legend()\n",
    "plt.show()"
   ]
  },
  {
   "cell_type": "code",
   "execution_count": 12,
   "id": "d19da008",
   "metadata": {},
   "outputs": [],
   "source": [
    "np.random.seed(42)\n",
    "data=np.random.normal(loc=50,scale=10,size=100)\n",
    "outliers=np.array([100,11,50,2])\n",
    "data=np.concatenate([data,outliers])"
   ]
  },
  {
   "cell_type": "code",
   "execution_count": 13,
   "id": "3912ea79",
   "metadata": {},
   "outputs": [
    {
     "data": {
      "text/html": [
       "<div>\n",
       "<style scoped>\n",
       "    .dataframe tbody tr th:only-of-type {\n",
       "        vertical-align: middle;\n",
       "    }\n",
       "\n",
       "    .dataframe tbody tr th {\n",
       "        vertical-align: top;\n",
       "    }\n",
       "\n",
       "    .dataframe thead th {\n",
       "        text-align: right;\n",
       "    }\n",
       "</style>\n",
       "<table border=\"1\" class=\"dataframe\">\n",
       "  <thead>\n",
       "    <tr style=\"text-align: right;\">\n",
       "      <th></th>\n",
       "      <th>Values</th>\n",
       "    </tr>\n",
       "  </thead>\n",
       "  <tbody>\n",
       "    <tr>\n",
       "      <th>0</th>\n",
       "      <td>54.967142</td>\n",
       "    </tr>\n",
       "    <tr>\n",
       "      <th>1</th>\n",
       "      <td>48.617357</td>\n",
       "    </tr>\n",
       "    <tr>\n",
       "      <th>2</th>\n",
       "      <td>56.476885</td>\n",
       "    </tr>\n",
       "    <tr>\n",
       "      <th>3</th>\n",
       "      <td>65.230299</td>\n",
       "    </tr>\n",
       "    <tr>\n",
       "      <th>4</th>\n",
       "      <td>47.658466</td>\n",
       "    </tr>\n",
       "  </tbody>\n",
       "</table>\n",
       "</div>"
      ],
      "text/plain": [
       "      Values\n",
       "0  54.967142\n",
       "1  48.617357\n",
       "2  56.476885\n",
       "3  65.230299\n",
       "4  47.658466"
      ]
     },
     "execution_count": 13,
     "metadata": {},
     "output_type": "execute_result"
    }
   ],
   "source": [
    "df=pd.DataFrame(data,columns=['Values'])\n",
    "df.head()"
   ]
  },
  {
   "cell_type": "code",
   "execution_count": 14,
   "id": "d917fd9f",
   "metadata": {},
   "outputs": [
    {
     "data": {
      "image/png": "[encoded data removed]",
      "text/plain": [
       "<Figure size 800x500 with 1 Axes>"
      ]
     },
     "metadata": {},
     "output_type": "display_data"
    }
   ],
   "source": [
    "plt.figure(figsize=(8,5))\n",
    "plt.scatter(range(len(df)),df['Values'],color='blue',label='Data Points')\n",
    "plt.axhline(y=df['Values'].mean(),color='red',linestyle='--',label='Mean')\n",
    "plt.xlabel(\"Index\")\n",
    "plt.ylabel(\"Values\")\n",
    "plt.title(\"Scatter Plot for Outlier Detection\")\n",
    "plt.legend()\n",
    "plt.show()"
   ]
  },
  {
   "cell_type": "code",
   "execution_count": 18,
   "id": "c477fc44",
   "metadata": {},
   "outputs": [
    {
     "data": {
      "image/png": "[encoded data removed]",
      "text/plain": [
       "<Figure size 800x500 with 1 Axes>"
      ]
     },
     "metadata": {},
     "output_type": "display_data"
    }
   ],
   "source": [
    "#box-plot\n",
    "plt.figure(figsize=(8,5))\n",
    "sns.boxplot(data=df,y='Values')\n",
    "plt.title(\"Box Plot for Outlier Detection\")\n",
    "plt.show()"
   ]
  },
  {
   "cell_type": "code",
   "execution_count": 22,
   "id": "1f25219b",
   "metadata": {},
   "outputs": [
    {
     "name": "stdout",
     "output_type": "stream",
     "text": [
      "     Values   Z-Score Outlier_Z\n",
      "100   100.0  4.363168   Outlier\n",
      "101    11.0 -3.198458   Outlier\n",
      "103     2.0 -3.963116   Outlier\n"
     ]
    }
   ],
   "source": [
    "#z-score method\n",
    "df['Z-Score']=zscore(df['Values'])\n",
    "df['Outlier_Z']=df['Z-Score'].apply(lambda x:'Outlier' if abs(x) >3 else 'Normal')\n",
    "print(df[df['Outlier_Z']=='Outlier'])"
   ]
  },
  {
   "cell_type": "code",
   "execution_count": 23,
   "id": "77b25e87",
   "metadata": {},
   "outputs": [
    {
     "name": "stdout",
     "output_type": "stream",
     "text": [
      "        Values   Z-Score Outlier_Z Outlier_IQR\n",
      "74   23.802549 -2.110726    Normal     Outlier\n",
      "101  11.000000 -3.198458   Outlier     Outlier\n",
      "103   2.000000 -3.963116   Outlier     Outlier\n"
     ]
    }
   ],
   "source": [
    "Q1=df['Values'].quantile(0.25)\n",
    "Q3=df['Values'].quantile(0.75)\n",
    "IQR=Q3-Q1\n",
    "lower_bound=Q1-1.5*IQR\n",
    "upper_bound=Q3+11.5*IQR\n",
    "#Identifying outliers\n",
    "df['Outlier_IQR']=df['Values'].apply(lambda x:'Outlier' if (x<lower_bound or x>upper_bound)else 'Normal')\n",
    "print(df[df['Outlier_IQR']=='Outlier'])"
   ]
  },
  {
   "cell_type": "markdown",
   "id": "3b65f06a",
   "metadata": {},
   "source": [
    "1.Scatter Plot -> Outliers appear far from the container\n",
    "\n",
    "2.Box Plot -> Outliers are outside the whiskers\n",
    "\n",
    "3.Z-Score -> Values with Z>3 or Z<-3 are outliers\n",
    "\n",
    "4.IQR-Method -> Values outside [Q1-1.5*IQR,Q3+1.5*IQR]  are outliers.\n"
   ]
  },
  {
   "cell_type": "markdown",
   "id": "f131d96a",
   "metadata": {},
   "source": [
    "Finding Outliers Using the IQR Method with a 5-Number Summary**\n",
    "The 5-number summary consists of:\n",
    " \n",
    "Minimum (Q0) → The smallest value in the dataset.\n",
    " \n",
    "First Quartile (Q1) → The 25th percentile (lower quartile).\n",
    " \n",
    "Median (Q2) → The 50th percentile (middle value).\n",
    " \n",
    "Third Quartile (Q3) → The 75th percentile (upper quartile).\n",
    " \n",
    "Maximum (Q4) → The largest value in the dataset."
   ]
  },
  {
   "cell_type": "markdown",
   "id": "79f4145d",
   "metadata": {},
   "source": [
    "The Interquartile Range (IQR) is calculated as:\n",
    " \n",
    "IQR=Q3−Q1\n",
    " \n",
    "Any value outside the range:\n",
    " \n",
    "[Q1−1.5×IQR,Q3+1.5×IQR]  is considered an outlier."
   ]
  },
  {
   "cell_type": "code",
   "execution_count": 26,
   "id": "5ab4de60",
   "metadata": {},
   "outputs": [
    {
     "name": "stdout",
     "output_type": "stream",
     "text": [
      "5-Number Summary:\n",
      " Min:5.0,Q1:43.469296839696675,Median (Q2):48.38038361082499,Q3:54.05952052012062,Max:110.0\n",
      "IQR:10.590223680423946\n",
      "Lower Bound:27.583961319060755,Upper Bound:69.94485604075655\n",
      "Outliers:[ 23.80254896  10.         110.           5.          20.        ]\n"
     ]
    }
   ],
   "source": [
    "np.random.seed(42)\n",
    "data=np.random.normal(loc=50,scale=10,size=100)\n",
    "outliers=np.array([10,110,5,20])\n",
    "data=np.concatenate([data,outliers])\n",
    "Q1=np.percentile(data,25)\n",
    "Q2=np.median(data)\n",
    "Q3=np.percentile(data,75)\n",
    "min_value=np.min(data)\n",
    "max_value=np.max(data)\n",
    "IQR=Q3-Q1\n",
    "lower_bound=Q1-1.5*IQR\n",
    "upper_bound=Q3+1.5*IQR\n",
    "outliers=data[(data<lower_bound)|(data>upper_bound)]\n",
    "print(f\"5-Number Summary:\\n Min:{min_value},Q1:{Q1},Median (Q2):{Q2},Q3:{Q3},Max:{max_value}\")\n",
    "print(f\"IQR:{IQR}\")\n",
    "print(f\"Lower Bound:{lower_bound},Upper Bound:{upper_bound}\")\n",
    "print(f\"Outliers:{outliers}\")"
   ]
  },
  {
   "cell_type": "code",
   "execution_count": null,
   "id": "4decd594",
   "metadata": {},
   "outputs": [],
   "source": []
  }
 ],
 "metadata": {
  "kernelspec": {
   "display_name": "Python 3 (ipykernel)",
   "language": "python",
   "name": "python3"
  },
  "language_info": {
   "codemirror_mode": {
    "name": "ipython",
    "version": 3
   },
   "file_extension": ".py",
   "mimetype": "text/x-python",
   "name": "python",
   "nbconvert_exporter": "python",
   "pygments_lexer": "ipython3",
   "version": "3.11.5"
  }
 },
 "nbformat": 4,
 "nbformat_minor": 5
}
